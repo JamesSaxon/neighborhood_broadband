{
 "cells": [
  {
   "cell_type": "code",
   "execution_count": 1,
   "metadata": {},
   "outputs": [],
   "source": [
    "import geopandas as gpd"
   ]
  },
  {
   "cell_type": "code",
   "execution_count": 2,
   "metadata": {},
   "outputs": [],
   "source": [
    "tracts = gpd.read_file(\"../data/chicago.geojson\").to_crs(epsg = 3528)\n",
    "\n",
    "# https://data.cityofchicago.org/Facilities-Geographic-Boundaries/Boundaries-Community-Areas-current-/cauq-8yn6\n",
    "comm   = gpd.read_file(\"../data/chicago_community_areas.geojson\").to_crs(epsg = 3528)\n",
    "comm[\"community\"] = comm[\"community\"].str.title()\n",
    "comm[\"community\"] = comm[\"community\"].replace({\"Ohare\" : \"O'Hare\"})\n",
    "comm[\"caN\"] = comm[\"area_numbe\"].astype(int)\n",
    "comm = comm[[\"community\", \"caN\", \"geometry\"]].copy()\n",
    "\n",
    "chicago_g = comm.unary_union\n",
    "\n",
    "tracts.set_geometry(tracts.intersection(chicago_g), inplace = True)"
   ]
  },
  {
   "cell_type": "code",
   "execution_count": 3,
   "metadata": {},
   "outputs": [],
   "source": [
    "tract_ca_map = gpd.sjoin(tracts[[\"geoid\", \"geometry\"]], \n",
    "                         comm[[\"caN\", \"geometry\"]], how = \"inner\", op = \"intersects\").drop(\"index_right\", axis = 1)\n",
    "\n",
    "tract_ca_map = tract_ca_map.merge(comm.rename(columns = {\"geometry\" : \"ca_geom\"}))\n",
    "\n",
    "tract_ca_map[\"f\"] = tract_ca_map.intersection(tract_ca_map.ca_geom).area / tract_ca_map.area\n",
    "tract_ca_map.query(\"f > 0.5\", inplace = True)\n",
    "\n",
    "tract_ca_map = tract_ca_map.set_index(\"geoid\").caN.to_dict()\n",
    "\n",
    "assert(len(tract_ca_map) == tracts.shape[0])"
   ]
  },
  {
   "cell_type": "code",
   "execution_count": 4,
   "metadata": {},
   "outputs": [],
   "source": [
    "tracts[\"caN\"] = tracts.geoid.replace(tract_ca_map)"
   ]
  },
  {
   "cell_type": "code",
   "execution_count": 5,
   "metadata": {},
   "outputs": [],
   "source": [
    "counts = [\"den_computers\", \"n_children\", \n",
    "          \"n_computer\", \"n_broadband\", \n",
    "          \"n_children_computer_and_broadband\", \"n_children_no_computer_and_broadband\",\n",
    "          \"den_black\", \"n_black\", \"den_hispanic\", \"n_hispanic\", \"den_ba\", \"n_ba\"]\n",
    "\n",
    "ca_agg = tracts.groupby(\"caN\")[counts].sum()\n",
    "\n",
    "ca_agg[\"f_broadband\"] = ca_agg[\"n_broadband\"] / ca_agg[\"den_computers\"]\n",
    "ca_agg[\"f_computer\"]  = ca_agg[\"n_computer\"]  / ca_agg[\"den_computers\"]\n",
    "\n",
    "ca_agg[\"f_children_computer_and_broadband\"] = \\\n",
    "    ca_agg[\"n_children_computer_and_broadband\"] / ca_agg[\"n_children\"]\n",
    "\n",
    "\n",
    "ca_agg[\"f_ba\"]  = ca_agg[\"n_ba\"]  / ca_agg[\"den_ba\"]\n",
    "\n",
    "ca_agg[\"f_black\"]  = ca_agg[\"n_black\"]  / ca_agg[\"den_black\"]\n",
    "ca_agg[\"f_hispanic\"]  = ca_agg[\"n_hispanic\"]  / ca_agg[\"den_hispanic\"]\n",
    "\n",
    "ca_mean = tracts.groupby(\"caN\")[[\"n100a\", \"log_mhi\"]].mean()\n",
    "\n",
    "ca_agg = ca_agg.join(ca_mean).reset_index()\n",
    "\n",
    "ca_agg = comm.merge(ca_agg)\n",
    "\n",
    "ca_agg.set_geometry(ca_agg.simplify(5), inplace = True)"
   ]
  },
  {
   "cell_type": "code",
   "execution_count": 6,
   "metadata": {},
   "outputs": [],
   "source": [
    "ca_agg.to_crs(epsg = 4326).to_file(\"../site/chicago_ca.geojson\", driver = \"GeoJSON\")"
   ]
  }
 ],
 "metadata": {
  "kernelspec": {
   "display_name": "Python 3",
   "language": "python",
   "name": "python3"
  },
  "language_info": {
   "codemirror_mode": {
    "name": "ipython",
    "version": 3
   },
   "file_extension": ".py",
   "mimetype": "text/x-python",
   "name": "python",
   "nbconvert_exporter": "python",
   "pygments_lexer": "ipython3",
   "version": "3.8.2"
  }
 },
 "nbformat": 4,
 "nbformat_minor": 4
}
